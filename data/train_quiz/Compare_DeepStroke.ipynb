{
  "nbformat": 4,
  "nbformat_minor": 0,
  "metadata": {
    "colab": {
      "provenance": []
    },
    "kernelspec": {
      "name": "python3",
      "display_name": "Python 3"
    },
    "language_info": {
      "name": "python"
    }
  },
  "cells": [
    {
      "cell_type": "markdown",
      "source": [],
      "metadata": {
        "id": "8psLnxrQFPaY"
      }
    },
    {
      "cell_type": "code",
      "source": [
        "import pandas as pd\n",
        "import numpy as np\n",
        "from sklearn.model_selection import train_test_split\n",
        "from sklearn.ensemble import RandomForestClassifier\n",
        "from sklearn.metrics import accuracy_score, precision_score, recall_score, f1_score, roc_auc_score\n",
        "\n",
        "# Đọc dữ liệu\n",
        "df = pd.read_csv('preprocess.csv')\n",
        "\n",
        "# Tách đặc trưng và nhãn\n",
        "X = pd.get_dummies(df.drop(columns='HadStroke'))\n",
        "y = df['HadStroke']\n",
        "\n",
        "# Tách dữ liệu thành train/test\n",
        "X_train, X_test, y_train, y_test = train_test_split(\n",
        "    X, y, test_size=0.2, random_state=42, stratify=y\n",
        ")\n",
        "\n",
        "# Huấn luyện và đánh giá mô hình Random Forest\n",
        "model_rf = RandomForestClassifier(random_state=42)\n",
        "model_rf.fit(X_train, y_train)\n",
        "y_pred_rf = model_rf.predict(X_test)\n",
        "y_train_pred_rf = model_rf.predict(X_train)\n",
        "\n",
        "print(\"Đánh giá mô hình Random Forest\")\n",
        "print(f\"Accuracy : {accuracy_score(y_test, y_pred_rf):.4f}\")\n",
        "print(f\"Precision: {precision_score(y_test, y_pred_rf, zero_division=0):.4f}\")\n",
        "print(f\"Recall   : {recall_score(y_test, y_pred_rf, zero_division=0):.4f}\")\n",
        "print(f\"F1-Score : {f1_score(y_test, y_pred_rf, zero_division=0):.4f}\")\n",
        "try:\n",
        "    print(f\"ROC-AUC  : {roc_auc_score(y_test, y_pred_rf):.4f}\")\n",
        "except:\n",
        "    print(\"ROC-AUC  : Không tính được\")\n",
        "\n",
        "print(f\"\\nOverfitting kiểm tra:\")\n",
        "print(f\"Train Accuracy: {accuracy_score(y_train, y_train_pred_rf):.4f}\")\n",
        "print(f\"Test Accuracy : {accuracy_score(y_test, y_pred_rf):.4f}\")\n",
        "print(\"=\"*50)\n"
      ],
      "metadata": {
        "colab": {
          "base_uri": "https://localhost:8080/"
        },
        "id": "faChzCY_AyTX",
        "outputId": "46bb38e6-34ad-403b-d10f-8113b7ebf859"
      },
      "execution_count": null,
      "outputs": [
        {
          "output_type": "stream",
          "name": "stdout",
          "text": [
            "Đánh giá mô hình Random Forest\n",
            "Accuracy : 0.9990\n",
            "Precision: 0.9979\n",
            "Recall   : 1.0000\n",
            "F1-Score : 0.9990\n",
            "ROC-AUC  : 0.9990\n",
            "\n",
            "Overfitting kiểm tra:\n",
            "Train Accuracy: 1.0000\n",
            "Test Accuracy : 0.9990\n",
            "==================================================\n"
          ]
        }
      ]
    },
    {
      "cell_type": "code",
      "source": [
        "import pandas as pd\n",
        "import numpy as np\n",
        "from sklearn.model_selection import train_test_split\n",
        "from sklearn.tree import DecisionTreeClassifier\n",
        "from sklearn.metrics import accuracy_score, precision_score, recall_score, f1_score, roc_auc_score\n",
        "\n",
        "# Đọc dữ liệu\n",
        "df = pd.read_csv('preprocess.csv')\n",
        "\n",
        "# Tách đặc trưng và nhãn\n",
        "X = pd.get_dummies(df.drop(columns='HadStroke'))\n",
        "y = df['HadStroke']\n",
        "\n",
        "# Tách dữ liệu thành train/test\n",
        "X_train, X_test, y_train, y_test = train_test_split(\n",
        "    X, y, test_size=0.2, random_state=42, stratify=y\n",
        ")\n",
        "\n",
        "# Huấn luyện và đánh giá mô hình Decision Tree\n",
        "model_dt = DecisionTreeClassifier(random_state=42)\n",
        "model_dt.fit(X_train, y_train)\n",
        "y_pred_dt = model_dt.predict(X_test)\n",
        "y_train_pred_dt = model_dt.predict(X_train)\n",
        "\n",
        "print(\"Đánh giá mô hình Decision Tree\")\n",
        "print(f\"Accuracy : {accuracy_score(y_test, y_pred_dt):.4f}\")\n",
        "print(f\"Precision: {precision_score(y_test, y_pred_dt, zero_division=0):.4f}\")\n",
        "print(f\"Recall   : {recall_score(y_test, y_pred_dt, zero_division=0):.4f}\")\n",
        "print(f\"F1-Score : {f1_score(y_test, y_pred_dt, zero_division=0):.4f}\")\n",
        "try:\n",
        "    print(f\"ROC-AUC  : {roc_auc_score(y_test, y_pred_dt):.4f}\")\n",
        "except:\n",
        "    print(\"ROC-AUC  : Không tính được\")\n",
        "\n",
        "print(f\"\\nOverfitting kiểm tra:\")\n",
        "print(f\"Train Accuracy: {accuracy_score(y_train, y_train_pred_dt):.4f}\")\n",
        "print(f\"Test Accuracy : {accuracy_score(y_test, y_pred_dt):.4f}\")\n",
        "print(\"=\"*50)\n"
      ],
      "metadata": {
        "colab": {
          "base_uri": "https://localhost:8080/"
        },
        "id": "1vZaal0mAtO6",
        "outputId": "b04c5edf-cfff-422f-ebd9-1ba91b543c02"
      },
      "execution_count": null,
      "outputs": [
        {
          "output_type": "stream",
          "name": "stdout",
          "text": [
            "Đánh giá mô hình Decision Tree\n",
            "Accuracy : 0.9732\n",
            "Precision: 0.9491\n",
            "Recall   : 1.0000\n",
            "F1-Score : 0.9739\n",
            "ROC-AUC  : 0.9732\n",
            "\n",
            "Overfitting kiểm tra:\n",
            "Train Accuracy: 1.0000\n",
            "Test Accuracy : 0.9732\n",
            "==================================================\n"
          ]
        }
      ]
    },
    {
      "cell_type": "code",
      "source": [],
      "metadata": {
        "id": "JIKwMIzLE3fT"
      },
      "execution_count": null,
      "outputs": []
    }
  ]
}