{
 "cells": [
  {
   "cell_type": "code",
   "execution_count": null,
   "id": "c0fa350c",
   "metadata": {},
   "outputs": [
    {
     "name": "stdout",
     "output_type": "stream",
     "text": [
      "✅ Xuất file preprocess_cleaned.csv thành công!\n"
     ]
    }
   ],
   "source": [
    "import pandas as pd\n",
    "\n",
    "# Đọc file CSV\n",
    "df = pd.read_csv('preprocess.csv')\n",
    "\n",
    "# Xoá các cột không cần thiết\n",
    "cols_to_drop = [\n",
    "    'PatientID', 'State', 'RaceEthnicityCategory',\n",
    "    'CovidPos', 'ChestScan', 'FluVaxLast12',\n",
    "    'TetanusLast10Tdap', 'TetanusLast10TdapIndex', 'AgeCategory'\n",
    "]\n",
    "df.drop(columns=cols_to_drop, inplace=True)\n",
    "\n",
    "# Mã hoá cột HadDiabetes\n",
    "diabetes_mapping = {\n",
    "    'No': 0,\n",
    "    'Yes': 1,\n",
    "    'No, pre-diabetes or borderline diabetes': 0,\n",
    "    'Yes, but only during pregnancy (female)': 0\n",
    "}\n",
    "df['HadDiabetes'] = df['HadDiabetes'].map(diabetes_mapping)\n",
    "\n",
    "# Xuất file ra thư mục hiện tại\n",
    "df.to_csv('preprocess_cleaned.csv', index=False)\n",
    "print(\"✅ Xuất file preprocess_cleaned.csv thành công!\")"
   ]
  }
 ],
 "metadata": {
  "kernelspec": {
   "display_name": "Python 3",
   "language": "python",
   "name": "python3"
  },
  "language_info": {
   "codemirror_mode": {
    "name": "ipython",
    "version": 3
   },
   "file_extension": ".py",
   "mimetype": "text/x-python",
   "name": "python",
   "nbconvert_exporter": "python",
   "pygments_lexer": "ipython3",
   "version": "3.12.6"
  }
 },
 "nbformat": 4,
 "nbformat_minor": 5
}
