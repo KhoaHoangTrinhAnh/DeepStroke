{
 "cells": [
  {
   "cell_type": "code",
   "execution_count": 1,
   "id": "6ccfd493",
   "metadata": {},
   "outputs": [],
   "source": [
    "import joblib\n",
    "import pandas as pd"
   ]
  },
  {
   "cell_type": "code",
   "execution_count": 6,
   "id": "7c5b2507",
   "metadata": {},
   "outputs": [],
   "source": [
    "# Load model đã huấn luyện\n",
    "model = joblib.load(\"stroke_predictor_rf_model.pkl\")\n",
    "\n",
    "# 👤 Một mẫu đầu vào từ quiz (phải đúng thứ tự cột của dữ liệu huấn luyện)\n",
    "# Đây là ví dụ mẫu - bạn có thể sửa giá trị input theo từng người dùng\n",
    "sample_data = {\n",
    "    \"Sex\": [1],\n",
    "    \"GeneralHealth\": [2],\n",
    "    \"HeightInMeters\": [1.1897277976716876],\n",
    "    \"WeightInKilograms\": [1.821157449857136],\n",
    "    \"BMI\": [1.0947603767680496],\n",
    "    \"HadHeartAttack\": [0],\n",
    "    \"HadAngina\": [0],\n",
    "    \"HadAsthma\": [1],\n",
    "    \"HadSkinCancer\": [0],\n",
    "    \"HadCOPD\": [0],\n",
    "    \"HadDepressiveDisorder\": [0],\n",
    "    \"HadKidneyDisease\": [0],\n",
    "    \"HadArthritis\": [1],\n",
    "    \"HadDiabetes\": [0],\n",
    "    \"DeafOrHardOfHearing\": [1],\n",
    "    \"BlindOrVisionDifficulty\": [0],\n",
    "    \"DifficultyConcentrating\": [0],\n",
    "    \"DifficultyWalking\": [0],\n",
    "    \"DifficultyDressingBathing\": [0],\n",
    "    \"DifficultyErrands\": [0],\n",
    "    \"SmokerStatus\": [1],\n",
    "    \"ECigaretteUsage\": [0],\n",
    "    \"AlcoholDrinkers\": [0],\n",
    "    \"HIVTesting\": [1],\n",
    "    \"PneumoVaxEver\": [1],\n",
    "    \"HighRiskLastYear\": [0],\n",
    "    \"AgeMin\": [70],\n",
    "    \"AgeMax\": [74]\n",
    "}"
   ]
  },
  {
   "cell_type": "code",
   "execution_count": 7,
   "id": "17f7a16f",
   "metadata": {},
   "outputs": [
    {
     "name": "stdout",
     "output_type": "stream",
     "text": [
      "⚠️ Cảnh báo: Người dùng có NGUY CƠ cao bị đột quỵ (xác suất: 59.00%)\n"
     ]
    }
   ],
   "source": [
    "# Chuyển sang DataFrame\n",
    "sample_df = pd.DataFrame(sample_data)\n",
    "\n",
    "# Dự đoán\n",
    "prediction = model.predict(sample_df)[0]\n",
    "prob = model.predict_proba(sample_df)[0][1]\n",
    "\n",
    "# Kết quả\n",
    "if prediction == 1:\n",
    "    print(f\"⚠️ Cảnh báo: Người dùng có NGUY CƠ cao bị đột quỵ (xác suất: {prob:.2%})\")\n",
    "else:\n",
    "    print(f\"✅ An toàn: Người dùng có nguy cơ thấp bị đột quỵ (xác suất: {prob:.2%})\")\n"
   ]
  }
 ],
 "metadata": {
  "kernelspec": {
   "display_name": "Python 3",
   "language": "python",
   "name": "python3"
  },
  "language_info": {
   "codemirror_mode": {
    "name": "ipython",
    "version": 3
   },
   "file_extension": ".py",
   "mimetype": "text/x-python",
   "name": "python",
   "nbconvert_exporter": "python",
   "pygments_lexer": "ipython3",
   "version": "3.12.6"
  }
 },
 "nbformat": 4,
 "nbformat_minor": 5
}
