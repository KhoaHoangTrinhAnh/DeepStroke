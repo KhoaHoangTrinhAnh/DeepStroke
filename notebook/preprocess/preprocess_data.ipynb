{
 "cells": [
  {
   "cell_type": "code",
   "execution_count": 38,
   "metadata": {},
   "outputs": [
    {
     "name": "stdout",
     "output_type": "stream",
     "text": [
      "+---------+-------+------+-------------+------------+----------------+-----------------+----------------+--------------+---------+---------+---------+-------------+-------+---------------------+----------------+------------+-----------+-------------------+-----------------------+-----------------------+-----------------+-------------------------+-----------------+-------------+--------------------+---------+---------------------+---------------+----------+------------+-------------+--------------------+----------------+--------+\n",
      "|PatientID|  State|   Sex|GeneralHealth| AgeCategory|  HeightInMeters|WeightInKilograms|             BMI|HadHeartAttack|HadAngina|HadStroke|HadAsthma|HadSkinCancer|HadCOPD|HadDepressiveDisorder|HadKidneyDisease|HadArthritis|HadDiabetes|DeafOrHardOfHearing|BlindOrVisionDifficulty|DifficultyConcentrating|DifficultyWalking|DifficultyDressingBathing|DifficultyErrands| SmokerStatus|     ECigaretteUsage|ChestScan|RaceEthnicityCategory|AlcoholDrinkers|HIVTesting|FluVaxLast12|PneumoVaxEver|   TetanusLast10Tdap|HighRiskLastYear|CovidPos|\n",
      "+---------+-------+------+-------------+------------+----------------+-----------------+----------------+--------------+---------+---------+---------+-------------+-------+---------------------+----------------+------------+-----------+-------------------+-----------------------+-----------------------+-----------------+-------------------------+-----------------+-------------+--------------------+---------+---------------------+---------------+----------+------------+-------------+--------------------+----------------+--------+\n",
      "|        1|Alabama|Female|         Fair|Age 75 to 79|1.62999999523163| 84.8199996948242|32.0999984741211|             0|        1|        0|        1|            1|      0|                    0|               0|           1|        Yes|                  0|                      0|                      0|                1|                        0|                0|Former smoker|Never used e-ciga...|        1| White only, Non-H...|              0|         0|           0|            1|No, did not recei...|               0|       1|\n",
      "|        2|Alabama|Female|    Very good|Age 65 to 69|1.60000002384186| 71.6699981689453|27.9899997711182|             0|        0|        0|        0|            0|      0|                    0|               0|           1|         No|                  0|                      0|                      0|                0|                        0|                0|Former smoker|Never used e-ciga...|        0| White only, Non-H...|              0|         0|           1|            1|  Yes, received Tdap|               0|       0|\n",
      "|        3|Alabama|  Male|    Excellent|Age 60 to 64|1.77999997138977| 71.2099990844727|22.5300006866455|             0|        0|        0|        0|            0|      0|                    0|               0|           0|         No|                  0|                      0|                      0|                0|                        0|                0| Never smoked|Never used e-ciga...|        0| White only, Non-H...|              1|         0|           0|            0|Yes, received tet...|               0|       0|\n",
      "|        4|Alabama|  Male|    Very good|Age 70 to 74|1.77999997138977|            95.25|30.1299991607666|             0|        0|        0|        0|            0|      0|                    0|               0|           1|        Yes|                  0|                      0|                      0|                0|                        0|                0|Former smoker|Never used e-ciga...|        0| White only, Non-H...|              0|         0|           1|            1|Yes, received tet...|               0|       0|\n",
      "|        5|Alabama|Female|         Good|Age 50 to 54|1.67999994754791| 78.0199966430664|27.7600002288818|             0|        0|        0|        0|            0|      0|                    0|               0|           0|         No|                  0|                      0|                      0|                0|                        0|                0| Never smoked|Never used e-ciga...|        1| Black only, Non-H...|              0|         0|           1|            0|No, did not recei...|               0|       0|\n",
      "+---------+-------+------+-------------+------------+----------------+-----------------+----------------+--------------+---------+---------+---------+-------------+-------+---------------------+----------------+------------+-----------+-------------------+-----------------------+-----------------------+-----------------+-------------------------+-----------------+-------------+--------------------+---------+---------------------+---------------+----------+------------+-------------+--------------------+----------------+--------+\n",
      "only showing top 5 rows\n",
      "\n",
      "root\n",
      " |-- PatientID: integer (nullable = true)\n",
      " |-- State: string (nullable = true)\n",
      " |-- Sex: string (nullable = true)\n",
      " |-- GeneralHealth: string (nullable = true)\n",
      " |-- AgeCategory: string (nullable = true)\n",
      " |-- HeightInMeters: double (nullable = true)\n",
      " |-- WeightInKilograms: double (nullable = true)\n",
      " |-- BMI: double (nullable = true)\n",
      " |-- HadHeartAttack: integer (nullable = true)\n",
      " |-- HadAngina: integer (nullable = true)\n",
      " |-- HadStroke: integer (nullable = true)\n",
      " |-- HadAsthma: integer (nullable = true)\n",
      " |-- HadSkinCancer: integer (nullable = true)\n",
      " |-- HadCOPD: integer (nullable = true)\n",
      " |-- HadDepressiveDisorder: integer (nullable = true)\n",
      " |-- HadKidneyDisease: integer (nullable = true)\n",
      " |-- HadArthritis: integer (nullable = true)\n",
      " |-- HadDiabetes: string (nullable = true)\n",
      " |-- DeafOrHardOfHearing: integer (nullable = true)\n",
      " |-- BlindOrVisionDifficulty: integer (nullable = true)\n",
      " |-- DifficultyConcentrating: integer (nullable = true)\n",
      " |-- DifficultyWalking: integer (nullable = true)\n",
      " |-- DifficultyDressingBathing: integer (nullable = true)\n",
      " |-- DifficultyErrands: integer (nullable = true)\n",
      " |-- SmokerStatus: string (nullable = true)\n",
      " |-- ECigaretteUsage: string (nullable = true)\n",
      " |-- ChestScan: integer (nullable = true)\n",
      " |-- RaceEthnicityCategory: string (nullable = true)\n",
      " |-- AlcoholDrinkers: integer (nullable = true)\n",
      " |-- HIVTesting: integer (nullable = true)\n",
      " |-- FluVaxLast12: integer (nullable = true)\n",
      " |-- PneumoVaxEver: integer (nullable = true)\n",
      " |-- TetanusLast10Tdap: string (nullable = true)\n",
      " |-- HighRiskLastYear: integer (nullable = true)\n",
      " |-- CovidPos: integer (nullable = true)\n",
      "\n"
     ]
    }
   ],
   "source": [
    "from pyspark.sql import SparkSession \n",
    "\n",
    "spark = SparkSession.builder.appName(\"StrokePreProcessing\").getOrCreate()\n",
    "\n",
    "df = spark.read.csv(\"D:/Năm 3 - HK2/Dữ liệu lớn/DeepStroke/data/raw/patients_data.csv\", header=True, inferSchema=True)\n",
    "\n",
    "df.show(5)\n",
    "df.printSchema()\n"
   ]
  },
  {
   "cell_type": "code",
   "execution_count": 39,
   "metadata": {},
   "outputs": [
    {
     "name": "stdout",
     "output_type": "stream",
     "text": [
      "Số lượng bản ghi: 237630\n"
     ]
    }
   ],
   "source": [
    "print(f\"Số lượng bản ghi: {df.count()}\")"
   ]
  },
  {
   "cell_type": "code",
   "execution_count": 40,
   "metadata": {},
   "outputs": [
    {
     "name": "stdout",
     "output_type": "stream",
     "text": [
      "+---------+-----+---+-------------+-----------+--------------+-----------------+---+--------------+---------+---------+---------+-------------+-------+---------------------+----------------+------------+-----------+-------------------+-----------------------+-----------------------+-----------------+-------------------------+-----------------+------------+---------------+---------+---------------------+---------------+----------+------------+-------------+-----------------+----------------+--------+\n",
      "|PatientID|State|Sex|GeneralHealth|AgeCategory|HeightInMeters|WeightInKilograms|BMI|HadHeartAttack|HadAngina|HadStroke|HadAsthma|HadSkinCancer|HadCOPD|HadDepressiveDisorder|HadKidneyDisease|HadArthritis|HadDiabetes|DeafOrHardOfHearing|BlindOrVisionDifficulty|DifficultyConcentrating|DifficultyWalking|DifficultyDressingBathing|DifficultyErrands|SmokerStatus|ECigaretteUsage|ChestScan|RaceEthnicityCategory|AlcoholDrinkers|HIVTesting|FluVaxLast12|PneumoVaxEver|TetanusLast10Tdap|HighRiskLastYear|CovidPos|\n",
      "+---------+-----+---+-------------+-----------+--------------+-----------------+---+--------------+---------+---------+---------+-------------+-------+---------------------+----------------+------------+-----------+-------------------+-----------------------+-----------------------+-----------------+-------------------------+-----------------+------------+---------------+---------+---------------------+---------------+----------+------------+-------------+-----------------+----------------+--------+\n",
      "|        0|    0|  0|            0|          0|             0|                0|  0|             0|        0|        0|        0|            0|      0|                    0|               0|           0|          0|                  0|                      0|                      0|                0|                        0|                0|           0|              0|        0|                    0|              0|         0|           0|            0|                0|               0|       0|\n",
      "+---------+-----+---+-------------+-----------+--------------+-----------------+---+--------------+---------+---------+---------+-------------+-------+---------------------+----------------+------------+-----------+-------------------+-----------------------+-----------------------+-----------------+-------------------------+-----------------+------------+---------------+---------+---------------------+---------------+----------+------------+-------------+-----------------+----------------+--------+\n",
      "\n"
     ]
    }
   ],
   "source": [
    "from pyspark.sql.functions import col, sum\n",
    "df.select([sum(col(c).isNull().cast(\"int\")).alias(c) for c in df.columns]).show()"
   ]
  },
  {
   "cell_type": "code",
   "execution_count": 41,
   "metadata": {},
   "outputs": [],
   "source": [
    "from pyspark.sql.functions import when, col\n",
    "df = df.withColumn(\"Sex\", when(col(\"Sex\") == \"Male\", 1).otherwise(0))"
   ]
  },
  {
   "cell_type": "code",
   "execution_count": 42,
   "metadata": {},
   "outputs": [
    {
     "name": "stdout",
     "output_type": "stream",
     "text": [
      "+---------------+------+------+\n",
      "|    AgeCategory|AgeMin|AgeMax|\n",
      "+---------------+------+------+\n",
      "|   Age 75 to 79|    75|    79|\n",
      "|   Age 65 to 69|    65|    69|\n",
      "|   Age 60 to 64|    60|    64|\n",
      "|   Age 70 to 74|    70|    74|\n",
      "|   Age 50 to 54|    50|    54|\n",
      "|   Age 75 to 79|    75|    79|\n",
      "|   Age 70 to 74|    70|    74|\n",
      "|   Age 60 to 64|    60|    64|\n",
      "|Age 80 or older|    80|   100|\n",
      "|Age 80 or older|    80|   100|\n",
      "+---------------+------+------+\n",
      "only showing top 10 rows\n",
      "\n"
     ]
    }
   ],
   "source": [
    "from pyspark.sql.functions import regexp_extract\n",
    "\n",
    "df = df.withColumn(\"AgeMin\", regexp_extract(col(\"AgeCategory\"), r\"(\\d+)\", 1).cast(\"int\"))\n",
    "df = df.withColumn(\"AgeMax\", when(col(\"AgeCategory\") == \"Age 80 or older\", 100)\n",
    "                               .otherwise(regexp_extract(col(\"AgeCategory\"), r\"to (\\d+)\", 1).cast(\"int\")))\n",
    "\n",
    "df.select(\"AgeCategory\", \"AgeMin\", \"AgeMax\").show(10)\n"
   ]
  },
  {
   "cell_type": "code",
   "execution_count": 43,
   "metadata": {},
   "outputs": [
    {
     "name": "stdout",
     "output_type": "stream",
     "text": [
      "+-------------+------------+---------------+\n",
      "|GeneralHealth|SmokerStatus|ECigaretteUsage|\n",
      "+-------------+------------+---------------+\n",
      "|            1|           1|              0|\n",
      "|            3|           1|              0|\n",
      "|            4|           0|              0|\n",
      "|            3|           1|              0|\n",
      "|            2|           0|              0|\n",
      "|            3|           1|              0|\n",
      "|            2|           0|              0|\n",
      "|            1|           0|              0|\n",
      "|            1|           0|              0|\n",
      "|            2|           0|              0|\n",
      "|            2|           0|              0|\n",
      "|            2|           0|              1|\n",
      "|            2|           0|              0|\n",
      "|            4|           3|              1|\n",
      "|            2|           0|              0|\n",
      "|            2|           0|              0|\n",
      "|            1|           0|              0|\n",
      "|            0|           1|              0|\n",
      "|            3|           0|              0|\n",
      "|            2|           1|              0|\n",
      "+-------------+------------+---------------+\n",
      "only showing top 20 rows\n",
      "\n"
     ]
    }
   ],
   "source": [
    "from pyspark.sql.functions import when, col\n",
    "\n",
    "df = df.withColumn(\"GeneralHealth\",\n",
    "                   when(col(\"GeneralHealth\") == \"Excellent\", 4)\n",
    "                   .when(col(\"GeneralHealth\") == \"Very good\", 3)\n",
    "                   .when(col(\"GeneralHealth\") == \"Good\", 2)\n",
    "                   .when(col(\"GeneralHealth\") == \"Fair\", 1)\n",
    "                   .when(col(\"GeneralHealth\") == \"Poor\", 0))\n",
    "\n",
    "df = df.withColumn(\"SmokerStatus\",\n",
    "                   when(col(\"SmokerStatus\") == \"Never smoked\", 0)\n",
    "                   .when(col(\"SmokerStatus\") == \"Former smoker\", 1)\n",
    "                   .when(col(\"SmokerStatus\") == \"Current smoker - now smokes some days\", 2)\n",
    "                   .when(col(\"SmokerStatus\") == \"Current smoker - now smokes every day\", 3))\n",
    "\n",
    "df = df.withColumn(\"ECigaretteUsage\",\n",
    "                   when(col(\"ECigaretteUsage\") == \"Never used e-cigarettes in my entire life\", 0)\n",
    "                   .when(col(\"ECigaretteUsage\") == \"Not at all (right now)\", 1)\n",
    "                   .when(col(\"ECigaretteUsage\") == \"Use them some days\", 2)\n",
    "                   .when(col(\"ECigaretteUsage\") == \"Use them every day\", 3))\n",
    "\n",
    "# Kiểm tra kết quả\n",
    "df.select(\"GeneralHealth\", \n",
    "          \"SmokerStatus\", \n",
    "          \"ECigaretteUsage\").show()\n"
   ]
  },
  {
   "cell_type": "code",
   "execution_count": null,
   "metadata": {},
   "outputs": [],
   "source": [
    "# Xoá cột nếu đã tồn tại\n",
    "for col in [\"TetanusLast10TdapIndex\", \"HadDiabetesIndex\"]:\n",
    "    if col in df.columns:\n",
    "        df = df.drop(col)"
   ]
  },
  {
   "cell_type": "code",
   "execution_count": null,
   "metadata": {},
   "outputs": [],
   "source": [
    "from pyspark.ml.feature import StringIndexer\n",
    "\n",
    "from pyspark.ml import Pipeline\n",
    "\n",
    "indexers = [\n",
    "    StringIndexer(inputCol=col, outputCol=col + \"Index\") \n",
    "    for col in [\"TetanusLast10Tdap\", \"HadDiabetes\"]\n",
    "]\n",
    "\n",
    "pipeline = Pipeline(stages=indexers)\n",
    "df = pipeline.fit(df).transform(df)"
   ]
  },
  {
   "cell_type": "code",
   "execution_count": 46,
   "metadata": {},
   "outputs": [
    {
     "name": "stdout",
     "output_type": "stream",
     "text": [
      "+--------------------+--------------------+--------------------+\n",
      "|                 BMI|      HeightInMeters|   WeightInKilograms|\n",
      "+--------------------+--------------------+--------------------+\n",
      "|  0.7580118052669288|    -0.7251021094814| 0.20855935356520808|\n",
      "|-0.00664849418421...| -1.0123262531561796| -0.5334163661083423|\n",
      "| -1.0224747356585686|  0.7110197502197919|  -0.559371355625191|\n",
      "|  0.3914958100751064|  0.7110197502197919|   0.797061717416525|\n",
      "| -0.0494396314932443|-0.24639520335680073|-0.17512403599037676|\n",
      "|   0.676150591682706|   1.381210560121603|  1.5649924266069521|\n",
      "|-0.40665332896045825|-0.05491129957958688| -0.3545523813294645|\n",
      "| 0.41010076038420984|-0.05491129957958688|  0.3620327093874407|\n",
      "|   0.612893973547682|-0.05491129957958688|  0.5414610547265276|\n",
      "|  0.9384793619473927| -1.4910343006081708|-0.09838735807925802|\n",
      "+--------------------+--------------------+--------------------+\n",
      "only showing top 10 rows\n",
      "\n"
     ]
    }
   ],
   "source": [
    "from pyspark.sql.functions import col, mean, stddev\n",
    "\n",
    "# Hàm xử lý ngoại lai\n",
    "def remover_outliers(df, col_name):\n",
    "    q1, q3 = df.approxQuantile(col_name, [0.25, 0.75], 0.01)  # Lấy Q1, Q3\n",
    "    iqr = q3 - q1\n",
    "    lower_bound = q1 - 1.5 * iqr\n",
    "    upper_bound = q3 + 1.5 * iqr\n",
    "    return df.filter((col(col_name) >= lower_bound) & (col(col_name) <= upper_bound))\n",
    "\n",
    "# Xử lý ngoại lai và chuẩn hóa\n",
    "for column in [\"BMI\", \"HeightInMeters\", \"WeightInKilograms\"]:\n",
    "    # Xử lý ngoại lai\n",
    "    df = remover_outliers(df, column)\n",
    "\n",
    "    # Tính toán mean và stddev\n",
    "    mean_val = df.agg(mean(col(column))).collect()[0][0]\n",
    "    std_val = df.agg(stddev(col(column))).collect()[0][0]\n",
    "\n",
    "    # Chuẩn hóa dữ liệu (z-score)\n",
    "    df = df.withColumn(column, (col(column) - mean_val) / std_val)\n",
    "\n",
    "# Kiểm tra kết quả\n",
    "df.select(\"BMI\", \"HeightInMeters\", \"WeightInKilograms\").show(10)\n"
   ]
  },
  {
   "cell_type": "code",
   "execution_count": 47,
   "metadata": {},
   "outputs": [],
   "source": [
    "cols_to_drop = [\n",
    "    \"PatientID\", \"State\", \"AgeCategory\",\n",
    "    \"RaceEthnicityCategory\", \"TetanusLast10Tdap\", \"HadDiabetes\"\n",
    "]\n",
    "\n",
    "df = df.drop(*cols_to_drop)\n"
   ]
  },
  {
   "cell_type": "code",
   "execution_count": 48,
   "metadata": {},
   "outputs": [
    {
     "name": "stdout",
     "output_type": "stream",
     "text": [
      "+---------+------+\n",
      "|HadStroke| count|\n",
      "+---------+------+\n",
      "|        0|216814|\n",
      "|        1|216638|\n",
      "+---------+------+\n",
      "\n"
     ]
    }
   ],
   "source": [
    "from pyspark.sql.functions import col\n",
    "\n",
    "#Tách dữ liệu theo từng lớp\n",
    "df_majority = df.filter(col(\"HadStroke\") == 0)  # Lớp đa số\n",
    "df_minority = df.filter(col(\"HadStroke\") == 1)  # Lớp thiểu số\n",
    "\n",
    "#Tính tỷ lệ nhân bản\n",
    "majority_count = df_majority.count()\n",
    "minority_count = df_minority.count()\n",
    "oversampling_ratio = majority_count / minority_count  # Số lần nhân bản\n",
    "\n",
    "#Lấy mẫu có thay thế để tăng số lượng lớp thiểu số\n",
    "df_minority_oversampled = df_minority.sample(withReplacement=True, fraction=oversampling_ratio, seed=42)\n",
    "\n",
    "#Kết hợp dữ liệu đã cân bằng\n",
    "df_balanced = df_majority.union(df_minority_oversampled)\n",
    "\n",
    "#Kiểm tra số lượng mẫu sau oversampling\n",
    "df_balanced.groupBy(\"HadStroke\").count().show()\n"
   ]
  },
  {
   "cell_type": "code",
   "execution_count": null,
   "metadata": {},
   "outputs": [],
   "source": [
    "df_balanced.toPandas().to_csv(\"../data/processed_data/preprocess.csv\", index=False)"
   ]
  }
 ],
 "metadata": {
  "kernelspec": {
   "display_name": "Python 3",
   "language": "python",
   "name": "python3"
  },
  "language_info": {
   "codemirror_mode": {
    "name": "ipython",
    "version": 3
   },
   "file_extension": ".py",
   "mimetype": "text/x-python",
   "name": "python",
   "nbconvert_exporter": "python",
   "pygments_lexer": "ipython3",
   "version": "3.12.6"
  }
 },
 "nbformat": 4,
 "nbformat_minor": 2
}
