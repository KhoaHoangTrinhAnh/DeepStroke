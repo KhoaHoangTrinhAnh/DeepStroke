{
  "cells": [
    {
      "cell_type": "markdown",
      "metadata": {
        "id": "vdfXkd1drkOm"
      },
      "source": [
        "Test model dự đoán"
      ]
    },
    {
      "cell_type": "code",
      "execution_count": 1,
      "metadata": {
        "id": "e8dcSkMqrnkS"
      },
      "outputs": [],
      "source": [
        "from pyspark.sql import SparkSession\n",
        "from pyspark.ml import PipelineModel\n",
        "import pandas as pd\n",
        "import os\n",
        "\n",
        "# ======= 1. Khởi tạo SparkSession =======\n",
        "spark = SparkSession.builder.getOrCreate()\n",
        "\n",
        "# ======= 2. Giả lập input JSON (người dùng điền quizz) =======\n",
        "input_data_list = [\n",
        "    {\n",
        "        \"Sex\": 0,\n",
        "        \"GeneralHealth\": 3,\n",
        "        \"HeightInMeters\": 1.6,\n",
        "        \"WeightInKilograms\": 60.0,\n",
        "        \"BMI\": 23.4,\n",
        "        \"HadHeartAttack\": 0,\n",
        "        \"HadAngina\": 0,\n",
        "        \"HadStroke\": 0,\n",
        "        \"HadAsthma\": 0,\n",
        "        \"HadSkinCancer\": 0,\n",
        "        \"HadCOPD\": 0,\n",
        "        \"HadDepressiveDisorder\": 0,\n",
        "        \"HadKidneyDisease\": 0,\n",
        "        \"HadArthritis\": 1,\n",
        "        \"DeafOrHardOfHearing\": 0,\n",
        "        \"BlindOrVisionDifficulty\": 0,\n",
        "        \"DifficultyConcentrating\": 0,\n",
        "        \"DifficultyWalking\": 0,\n",
        "        \"DifficultyDressingBathing\": 0,\n",
        "        \"DifficultyErrands\": 0,\n",
        "        \"SmokerStatus\": 1,\n",
        "        \"ECigaretteUsage\": 0,\n",
        "        \"ChestScan\": 1,\n",
        "        \"AlcoholDrinkers\": 0,\n",
        "        \"HIVTesting\": 0,\n",
        "        \"FluVaxLast12\": 1,\n",
        "        \"PneumoVaxEver\": 0,\n",
        "        \"HighRiskLastYear\": 0,\n",
        "        \"CovidPos\": 1,\n",
        "        \"AgeMin\": 60,\n",
        "        \"AgeMax\": 64,\n",
        "        \"TetanusLast10TdapIndex\": 1.0,\n",
        "        \"HadDiabetesIndex\": 1.0\n",
        "    },\n",
        "    {\n",
        "        \"Sex\": 1,\n",
        "        \"GeneralHealth\": 2,\n",
        "        \"HeightInMeters\": 1.7,\n",
        "        \"WeightInKilograms\": 80.0,\n",
        "        \"BMI\": 27.7,\n",
        "        \"HadHeartAttack\": 0,\n",
        "        \"HadAngina\": 0,\n",
        "        \"HadStroke\": 0,\n",
        "        \"HadAsthma\": 0,\n",
        "        \"HadSkinCancer\": 0,\n",
        "        \"HadCOPD\": 0,\n",
        "        \"HadDepressiveDisorder\": 1,\n",
        "        \"HadKidneyDisease\": 0,\n",
        "        \"HadArthritis\": 0,\n",
        "        \"DeafOrHardOfHearing\": 0,\n",
        "        \"BlindOrVisionDifficulty\": 0,\n",
        "        \"DifficultyConcentrating\": 1,\n",
        "        \"DifficultyWalking\": 0,\n",
        "        \"DifficultyDressingBathing\": 0,\n",
        "        \"DifficultyErrands\": 0,\n",
        "        \"SmokerStatus\": 0,\n",
        "        \"ECigaretteUsage\": 1,\n",
        "        \"ChestScan\": 0,\n",
        "        \"AlcoholDrinkers\": 1,\n",
        "        \"HIVTesting\": 1,\n",
        "        \"FluVaxLast12\": 0,\n",
        "        \"PneumoVaxEver\": 0,\n",
        "        \"HighRiskLastYear\": 1,\n",
        "        \"CovidPos\": 0,\n",
        "        \"AgeMin\": 50,\n",
        "        \"AgeMax\": 54,\n",
        "        \"TetanusLast10TdapIndex\": 0.0,\n",
        "        \"HadDiabetesIndex\": 0.0\n",
        "    }\n",
        "    # Thêm dòng dữ liệu khác nếu cần\n",
        "]\n",
        "\n",
        "# ======= 3. Chuyển list dict thành Pandas rồi Spark DataFrame =======\n",
        "input_df = pd.DataFrame(input_data_list)\n",
        "spark_df = spark.createDataFrame(input_df)"
      ]
    },
    {
      "cell_type": "code",
      "execution_count": null,
      "metadata": {
        "id": "0qQpb1mJroTs"
      },
      "outputs": [],
      "source": [
        "# ======= 4. Load mô hình từ đường dẫn tương đối =======\n",
        "model_path = \"../../backend/models/Model_LogisticRegression\"\n",
        "model = PipelineModel.load(model_path)"
      ]
    },
    {
      "cell_type": "code",
      "execution_count": 3,
      "metadata": {
        "colab": {
          "base_uri": "https://localhost:8080/"
        },
        "id": "ASFwXVdfzpj-",
        "outputId": "981693eb-ae54-4681-d529-1e25459588b9"
      },
      "outputs": [
        {
          "name": "stdout",
          "output_type": "stream",
          "text": [
            "==== KẾT QUẢ DỰ ĐOÁN NHIỀU NGƯỜI DÙNG ====\n",
            "\n",
            "Người dùng 1:\n",
            "   Xác suất bị đột quỵ: 97.25%\n",
            "   Kết luận: Nguy cơ CAO bị đột quỵ\n",
            "\n",
            "Người dùng 2:\n",
            "   Xác suất bị đột quỵ: 99.1%\n",
            "   Kết luận: Nguy cơ CAO bị đột quỵ\n",
            "\n"
          ]
        }
      ],
      "source": [
        "# ======= 5. Dự đoán =======\n",
        "predictions = model.transform(spark_df)\n",
        "\n",
        "# ======= 6. Lấy kết quả dự đoán =======\n",
        "results = predictions.select(\"probability\", \"prediction\").collect()\n",
        "\n",
        "print(\"==== KẾT QUẢ DỰ ĐOÁN NHIỀU NGƯỜI DÙNG ====\\n\")\n",
        "for idx, row in enumerate(results):\n",
        "    prob = row[\"probability\"][1]  # Xác suất bị đột quỵ\n",
        "    pred = row[\"prediction\"]\n",
        "    percent = round(prob * 100, 2)\n",
        "    conclusion = \"Nguy cơ CAO bị đột quỵ\" if prob > 0.5 else \"Nguy cơ THẤP bị đột quỵ\"\n",
        "    print(f\"Người dùng {idx + 1}:\")\n",
        "    print(f\"   Xác suất bị đột quỵ: {percent}%\")\n",
        "    print(f\"   Kết luận: {conclusion}\\n\")\n"
      ]
    }
  ],
  "metadata": {
    "colab": {
      "provenance": []
    },
    "kernelspec": {
      "display_name": "Python 3",
      "name": "python3"
    },
    "language_info": {
      "name": "python"
    }
  },
  "nbformat": 4,
  "nbformat_minor": 0
}
