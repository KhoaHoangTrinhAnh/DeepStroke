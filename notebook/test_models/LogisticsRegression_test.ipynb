{
  "cells": [
    {
      "cell_type": "markdown",
      "metadata": {
        "id": "vdfXkd1drkOm"
      },
      "source": [
        "Test model dự đoán"
      ]
    },
    {
      "cell_type": "code",
      "execution_count": null,
      "metadata": {
        "id": "e8dcSkMqrnkS"
      },
      "outputs": [],
      "source": [
        "from pyspark.sql import SparkSession\n",
        "from pyspark.ml import PipelineModel\n",
        "import pandas as pd\n",
        "\n",
        "# Khởi tạo SparkSession\n",
        "spark = SparkSession.builder.getOrCreate()\n",
        "\n",
        "# ======= 1. Giả lập input JSON (người dùng điền quizz) =======\n",
        "# Ví dụ: người dùng là nữ, sức khoẻ ổn, cao 1.6m, nặng 60kg,...\n",
        "input_data = {\n",
        "    \"Sex\": 0,\n",
        "    \"GeneralHealth\": 3,\n",
        "    \"HeightInMeters\": 0.0,\n",
        "    \"WeightInKilograms\": 0.0,\n",
        "    \"BMI\": 0.0,\n",
        "    \"HadHeartAttack\": 0,\n",
        "    \"HadAngina\": 0,\n",
        "    \"HadStroke\": 0,  # Cột target này vẫn cần có để tạo schema (dù sẽ bỏ sau)\n",
        "    \"HadAsthma\": 0,\n",
        "    \"HadSkinCancer\": 0,\n",
        "    \"HadCOPD\": 0,\n",
        "    \"HadDepressiveDisorder\": 0,\n",
        "    \"HadKidneyDisease\": 0,\n",
        "    \"HadArthritis\": 1,\n",
        "    \"DeafOrHardOfHearing\": 0,\n",
        "    \"BlindOrVisionDifficulty\": 0,\n",
        "    \"DifficultyConcentrating\": 0,\n",
        "    \"DifficultyWalking\": 0,\n",
        "    \"DifficultyDressingBathing\": 0,\n",
        "    \"DifficultyErrands\": 0,\n",
        "    \"SmokerStatus\": 1,\n",
        "    \"ECigaretteUsage\": 0,\n",
        "    \"ChestScan\": 1,\n",
        "    \"AlcoholDrinkers\": 0,\n",
        "    \"HIVTesting\": 0,\n",
        "    \"FluVaxLast12\": 1,\n",
        "    \"PneumoVaxEver\": 0,\n",
        "    \"HighRiskLastYear\": 0,\n",
        "    \"CovidPos\": 1,\n",
        "    \"AgeMin\": 60,\n",
        "    \"AgeMax\": 64,\n",
        "    \"TetanusLast10TdapIndex\": 1.0,\n",
        "    \"HadDiabetesIndex\": 1.0\n",
        "}\n",
        "\n",
        "# Chuyển dict thành Pandas rồi Spark DataFrame\n",
        "input_df = pd.DataFrame([input_data])\n",
        "spark_df = spark.createDataFrame(input_df)"
      ]
    },
    {
      "cell_type": "code",
      "execution_count": null,
      "metadata": {
        "id": "0qQpb1mJroTs"
      },
      "outputs": [],
      "source": [
        "# ======= 2. Load lại mô hình từ thư mục đã lưu =======\n",
        "model = PipelineModel.load(\"Model_LogisticRegression\")  # Đường dẫn bạn đã lưu model"
      ]
    },
    {
      "cell_type": "code",
      "execution_count": null,
      "metadata": {
        "colab": {
          "base_uri": "https://localhost:8080/"
        },
        "id": "ASFwXVdfzpj-",
        "outputId": "8de10f42-fb2e-40a5-b2aa-f6e180e21f53"
      },
      "outputs": [
        {
          "name": "stdout",
          "output_type": "stream",
          "text": [
            "✅ Xác suất bị đột quỵ: 41.42%\n",
            "📌 Kết luận: Nguy cơ THẤP bị đột quỵ\n"
          ]
        }
      ],
      "source": [
        "# ======= 5. Dự đoán =======\n",
        "predictions = model.transform(spark_df)\n",
        "\n",
        "# ======= 6. Lấy kết quả dự đoán =======\n",
        "result = predictions.select(\"probability\", \"prediction\").collect()[0]\n",
        "probability = result[\"probability\"][1]  # Xác suất bị đột quỵ (label = 1)\n",
        "prediction = result[\"prediction\"]\n",
        "\n",
        "# ======= 7. In ra kết quả rõ ràng =======\n",
        "percent = round(probability * 100, 2)\n",
        "conclusion = \"Nguy cơ CAO bị đột quỵ\" if probability > 0.5 else \"Nguy cơ THẤP bị đột quỵ\"\n",
        "\n",
        "print(f\"✅ Xác suất bị đột quỵ: {percent}%\")\n",
        "print(f\"📌 Kết luận: {conclusion}\")\n"
      ]
    }
  ],
  "metadata": {
    "colab": {
      "provenance": []
    },
    "kernelspec": {
      "display_name": "Python 3",
      "name": "python3"
    },
    "language_info": {
      "name": "python",
      "version": "3.12.6"
    }
  },
  "nbformat": 4,
  "nbformat_minor": 0
}
